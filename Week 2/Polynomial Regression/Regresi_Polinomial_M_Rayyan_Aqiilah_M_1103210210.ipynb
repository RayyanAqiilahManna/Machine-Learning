{
  "nbformat": 4,
  "nbformat_minor": 0,
  "metadata": {
    "colab": {
      "provenance": []
    },
    "kernelspec": {
      "name": "python3",
      "display_name": "Python 3"
    },
    "language_info": {
      "name": "python"
    }
  },
  "cells": [
    {
      "cell_type": "markdown",
      "source": [
        "Nama : Muhammad Rayyan Aqiilah Manna\n",
        "\n",
        "NIM : 1103210210\n",
        "\n",
        "Tugas : Tugas Week 2 Polynomial Regression\n",
        "\n",
        "Dataset : GDP.csv\n",
        "\n",
        "Dokumentasi ChatGPT : https://chat.openai.com/share/42247078-03bd-4e3e-8f8d-3df08c71f91b"
      ],
      "metadata": {
        "id": "VFSRu0VZKvn3"
      }
    },
    {
      "cell_type": "markdown",
      "source": [
        "#1. IMPORT LIBRARY"
      ],
      "metadata": {
        "id": "BaQdPviePf4G"
      }
    },
    {
      "cell_type": "markdown",
      "source": [
        "Prompt ChatGPT : menggunakan dataset yang saya berikan, bagaimana cara untuk membuat model polynomial regression ?"
      ],
      "metadata": {
        "id": "XidLB5EGMLxJ"
      }
    },
    {
      "cell_type": "code",
      "execution_count": 17,
      "metadata": {
        "id": "R18JzuYpKlK4"
      },
      "outputs": [],
      "source": [
        "import pandas as pd\n",
        "import numpy as np\n",
        "from sklearn.model_selection import train_test_split\n",
        "from sklearn.preprocessing import PolynomialFeatures\n",
        "from sklearn.linear_model import LinearRegression\n",
        "from sklearn.metrics import mean_squared_error, mean_absolute_error, r2_score\n",
        "import matplotlib.pyplot as plt\n"
      ]
    },
    {
      "cell_type": "markdown",
      "source": [
        "#2. MOUNT DRIVE"
      ],
      "metadata": {
        "id": "V48ze_BmPz-t"
      }
    },
    {
      "cell_type": "markdown",
      "source": [
        "Mount drive untuk memuat isi GDP.csv menggunakan format tugas yang sudah dibuat sebelumnya"
      ],
      "metadata": {
        "id": "I0TlPBJ9M00y"
      }
    },
    {
      "cell_type": "code",
      "source": [
        "from google.colab import drive\n",
        "drive.mount('/content/drive')\n",
        "df = pd.read_csv('/content/drive/MyDrive/Dataset/GDP.csv')"
      ],
      "metadata": {
        "colab": {
          "base_uri": "https://localhost:8080/"
        },
        "id": "5lHV7ZmHMSwB",
        "outputId": "d1405205-1fad-4fa8-93c3-2f2abf4fbb3f"
      },
      "execution_count": 18,
      "outputs": [
        {
          "output_type": "stream",
          "name": "stdout",
          "text": [
            "Drive already mounted at /content/drive; to attempt to forcibly remount, call drive.mount(\"/content/drive\", force_remount=True).\n"
          ]
        }
      ]
    },
    {
      "cell_type": "markdown",
      "source": [
        "#3. MENAMPILKAN DATA"
      ],
      "metadata": {
        "id": "VcBb9pM3P-Lu"
      }
    },
    {
      "cell_type": "markdown",
      "source": [
        "Bertujuan untuk mengecek jika data yang dimuat sudah benar atau belum"
      ],
      "metadata": {
        "id": "NxRd5ZlJNj3E"
      }
    },
    {
      "cell_type": "code",
      "source": [
        "print(df.info())"
      ],
      "metadata": {
        "colab": {
          "base_uri": "https://localhost:8080/"
        },
        "id": "nljUTOrbSOU-",
        "outputId": "8b2299a5-dc16-4d06-8a35-767b6f1e41c3"
      },
      "execution_count": 22,
      "outputs": [
        {
          "output_type": "stream",
          "name": "stdout",
          "text": [
            "<class 'pandas.core.frame.DataFrame'>\n",
            "RangeIndex: 10134 entries, 0 to 10133\n",
            "Data columns (total 6 columns):\n",
            " #   Column       Non-Null Count  Dtype  \n",
            "---  ------       --------------  -----  \n",
            " 0   year         10134 non-null  int64  \n",
            " 1   rank         10134 non-null  int64  \n",
            " 2   country      10134 non-null  object \n",
            " 3   state        10134 non-null  object \n",
            " 4   gdp          10134 non-null  int64  \n",
            " 5   gdp_percent  10134 non-null  float64\n",
            "dtypes: float64(1), int64(3), object(2)\n",
            "memory usage: 475.2+ KB\n",
            "None\n"
          ]
        }
      ]
    },
    {
      "cell_type": "code",
      "source": [
        "print(df.head())"
      ],
      "metadata": {
        "colab": {
          "base_uri": "https://localhost:8080/"
        },
        "id": "1luVMSM6M-G9",
        "outputId": "00974f24-fde3-456d-fb7e-1192091434f5"
      },
      "execution_count": 19,
      "outputs": [
        {
          "output_type": "stream",
          "name": "stdout",
          "text": [
            "   year  rank            country    state           gdp  gdp_percent\n",
            "0  1960     1  the United States  America  543300000000     0.468483\n",
            "1  1960     2     United Kingdom   Europe   73233967692     0.063149\n",
            "2  1960     3             France   Europe   62225478000     0.053656\n",
            "3  1960     4              China     Asia   59716467625     0.051493\n",
            "4  1960     5              Japan     Asia   44307342950     0.038206\n"
          ]
        }
      ]
    },
    {
      "cell_type": "code",
      "source": [
        "print(df.describe())"
      ],
      "metadata": {
        "colab": {
          "base_uri": "https://localhost:8080/"
        },
        "id": "u6Z0VYcYSoah",
        "outputId": "15149bdd-9d0a-4926-ec19-bdfa9e861150"
      },
      "execution_count": 23,
      "outputs": [
        {
          "output_type": "stream",
          "name": "stdout",
          "text": [
            "               year          rank           gdp   gdp_percent\n",
            "count  10134.000000  10134.000000  1.013400e+04  1.013400e+04\n",
            "mean    1993.579238     87.353069  1.773584e+11  6.019341e-03\n",
            "std       16.841720     53.688994  9.522888e+11  2.748022e-02\n",
            "min     1960.000000      1.000000  8.824447e+06  3.550683e-07\n",
            "25%     1980.000000     42.000000  1.380725e+09  8.875239e-05\n",
            "50%     1995.000000     84.000000  7.559957e+09  3.650213e-04\n",
            "75%     2008.000000    128.000000  4.995662e+10  2.499742e-03\n",
            "max     2020.000000    206.000000  2.143322e+13  4.684827e-01\n"
          ]
        }
      ]
    },
    {
      "cell_type": "markdown",
      "source": [
        "#4. PRE-PROCESSING DATA"
      ],
      "metadata": {
        "id": "nfXeGE1uRZ9w"
      }
    },
    {
      "cell_type": "markdown",
      "source": [
        "Pembuatan model polinomial menggunakan code yang sudah diminta saat di awal"
      ],
      "metadata": {
        "id": "xX02EqfERrP2"
      }
    },
    {
      "cell_type": "code",
      "source": [
        "X = df[['year']]  # Hanya menggunakan fitur 'Year' untuk contoh ini\n",
        "y = df['gdp']\n",
        "\n",
        "# Membagi data menjadi data latih dan data uji\n",
        "X_train, X_test, y_train, y_test = train_test_split(X, y, test_size=0.2, random_state=42)\n",
        "\n",
        "# Membuat objek PolynomialFeatures untuk membuat fitur-fitur polinomial\n",
        "poly = PolynomialFeatures(degree=3)  # Contoh: menggunakan derajat polinomial 3\n",
        "\n",
        "# Transformasi fitur X menjadi fitur-fitur polinomial\n",
        "X_train_poly = poly.fit_transform(X_train)\n",
        "X_test_poly = poly.transform(X_test)\n",
        "\n",
        "# Membuat model regresi linear\n",
        "model = LinearRegression()\n",
        "\n",
        "# Melatih model pada data latih yang telah ditransformasi\n",
        "model.fit(X_train_poly, y_train)\n",
        "\n",
        "# Memprediksi nilai GDP_Per_Capita pada data uji yang telah ditransformasi\n",
        "y_pred = model.predict(X_test_poly)"
      ],
      "metadata": {
        "colab": {
          "base_uri": "https://localhost:8080/"
        },
        "id": "fy_lO2Q-NrEA",
        "outputId": "3e434073-4ca9-43e2-b948-260858743077"
      },
      "execution_count": 20,
      "outputs": [
        {
          "output_type": "stream",
          "name": "stdout",
          "text": [
            "Root Mean Squared Error (RMSE): 1144763024847.3633\n",
            "Mean Absolute Error (MAE): 272838917389.786\n",
            "Mean Absolute Percentage Error (MAPE): 14631.189629781955\n",
            "Coefficient of Determination (R^2): 0.01707911614981794\n"
          ]
        }
      ]
    },
    {
      "cell_type": "markdown",
      "source": [
        "#5. EVALUASI MODEL"
      ],
      "metadata": {
        "id": "mZ8e9N-oRlXp"
      }
    },
    {
      "cell_type": "markdown",
      "source": [
        "Prompt ChatGPT : Berikan kode untuk melakukan evaluasi dengan menggunakan RMSE, MAE, MAPPE, R2"
      ],
      "metadata": {
        "id": "nrv_5goeRKxk"
      }
    },
    {
      "cell_type": "code",
      "source": [
        "# Evaluasi model\n",
        "rmse = np.sqrt(mean_squared_error(y_test, y_pred))\n",
        "mae = mean_absolute_error(y_test, y_pred)\n",
        "\n",
        "def mean_absolute_percentage_error(y_true, y_pred):\n",
        "    return np.mean(np.abs((y_true - y_pred) / y_true)) * 100\n",
        "\n",
        "mape = mean_absolute_percentage_error(y_test, y_pred)\n",
        "r_squared = r2_score(y_test, y_pred)\n",
        "\n",
        "print(\"Root Mean Squared Error (RMSE):\", rmse)\n",
        "print(\"Mean Absolute Error (MAE):\", mae)\n",
        "print(\"Mean Absolute Percentage Error (MAPE):\", mape)\n",
        "print(\"Coefficient of Determination (R^2):\", r_squared)"
      ],
      "metadata": {
        "id": "zrpG5FRORkAD"
      },
      "execution_count": null,
      "outputs": []
    },
    {
      "cell_type": "markdown",
      "source": [
        "#6. VISUALISASI MODEL"
      ],
      "metadata": {
        "id": "SCl9wCeeRziR"
      }
    },
    {
      "cell_type": "markdown",
      "source": [
        "Prompt ChatGPT : berikan kode untuk memvisualisasikan scatter plot dari hasil model polinomial regression diatas"
      ],
      "metadata": {
        "id": "rU4lpNJxPVQC"
      }
    },
    {
      "cell_type": "code",
      "source": [
        "# Mengurutkan data uji berdasarkan Year untuk plot yang lebih rapi\n",
        "sort_indices = np.argsort(X_test.values.flatten())\n",
        "X_test_sorted = X_test.values[sort_indices]\n",
        "y_test_sorted = y_test.values[sort_indices]\n",
        "\n",
        "# Mengurutkan hasil prediksi sesuai dengan urutan data uji yang diurutkan\n",
        "y_pred_sorted = y_pred[sort_indices]\n",
        "\n",
        "# Membuat scatter plot dari data uji\n",
        "plt.scatter(X_test, y_test, color='blue', label='Actual Data')\n",
        "\n",
        "# Menambahkan plot dari hasil prediksi\n",
        "plt.plot(X_test_sorted, y_pred_sorted, color='red', label='Predicted Data')\n",
        "\n",
        "plt.title('Scatter Plot Year vs GDP')\n",
        "plt.xlabel('year')\n",
        "plt.ylabel('gdp')\n",
        "plt.legend()\n",
        "plt.show()"
      ],
      "metadata": {
        "colab": {
          "base_uri": "https://localhost:8080/",
          "height": 472
        },
        "id": "WU3VvHlaOYDl",
        "outputId": "83d0918e-e195-42cb-9c01-0e49594a2327"
      },
      "execution_count": 27,
      "outputs": [
        {
          "output_type": "display_data",
          "data": {
            "text/plain": [
              "<Figure size 640x480 with 1 Axes>"
            ],
            "image/png": "[encoded data removed]"
          },
          "metadata": {}
        }
      ]
    },
    {
      "cell_type": "markdown",
      "source": [
        "Perbandingan antara nilai aktual dengan hasil prediksi yang dibuat oleh model regresi polinomial"
      ],
      "metadata": {
        "id": "-JlIJ_eAUGZL"
      }
    },
    {
      "cell_type": "code",
      "source": [
        "actual_vs_predicted = np.column_stack((y_test, y_pred))\n",
        "print(\"Actual vs Predicted : \")\n",
        "print(actual_vs_predicted)"
      ],
      "metadata": {
        "colab": {
          "base_uri": "https://localhost:8080/"
        },
        "id": "ag9dQFmPTneH",
        "outputId": "e7ce0abf-e0e9-4f5e-bc8c-6476ea13316c"
      },
      "execution_count": 24,
      "outputs": [
        {
          "output_type": "stream",
          "name": "stdout",
          "text": [
            "Actual vs Predicted : \n",
            "[[4.65800000e+09 2.74280228e+11]\n",
            " [2.46823428e+08 1.21577161e+11]\n",
            " [3.14933200e+10 1.59921249e+11]\n",
            " ...\n",
            " [2.06950601e+11 3.80162453e+11]\n",
            " [7.35315506e+10 8.88362817e+10]\n",
            " [8.77511627e+09 1.01254602e+11]]\n"
          ]
        }
      ]
    },
    {
      "cell_type": "markdown",
      "source": [
        "Menambahkan data baru lalu meminta model untuk melakukan prediksi"
      ],
      "metadata": {
        "id": "2hg1375ZUOT0"
      }
    },
    {
      "cell_type": "code",
      "source": [
        "# Misalkan kita memiliki data baru untuk tahun 2027\n",
        "new_data = pd.DataFrame({'year': [2027]})\n",
        "\n",
        "# Lakukan transformasi polinomial sesuai dengan pola yang sama dengan saat melatih model\n",
        "new_data_poly = poly.transform(new_data)\n",
        "\n",
        "# Lakukan prediksi dengan model yang telah dilatih\n",
        "predicted_gdp = model.predict(new_data_poly)\n",
        "\n",
        "# Tampilkan hasil prediksi\n",
        "print(\"Prediksi GDP per Kapita untuk tahun 2027:\", predicted_gdp)"
      ],
      "metadata": {
        "colab": {
          "base_uri": "https://localhost:8080/"
        },
        "id": "3XMIVw2gT7NR",
        "outputId": "59210ecb-3748-4fe4-e469-f73aaa354b83"
      },
      "execution_count": 26,
      "outputs": [
        {
          "output_type": "stream",
          "name": "stdout",
          "text": [
            "Prediksi GDP per Kapita untuk tahun 2025: [5.17335934e+11]\n"
          ]
        }
      ]
    }
  ]
}